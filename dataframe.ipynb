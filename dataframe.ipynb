{
 "cells": [
  {
   "cell_type": "code",
   "execution_count": 32,
   "metadata": {},
   "outputs": [
    {
     "name": "stdout",
     "output_type": "stream",
     "text": [
      "    nama_kabupaten_kota  jumlah_produksi_sampah        satuan  tahun\n",
      "0       KABUPATEN BOGOR                 1511.15  TON PER HARI   2015\n",
      "1    KABUPATEN SUKABUMI                  419.01  TON PER HARI   2015\n",
      "2     KABUPATEN CIANJUR                  981.41  TON PER HARI   2015\n",
      "3     KABUPATEN BANDUNG                 1895.94  TON PER HARI   2015\n",
      "4       KABUPATEN GARUT                  464.74  TON PER HARI   2015\n",
      "..                  ...                     ...           ...    ...\n",
      "238         KOTA BEKASI                     NaN  TON PER HARI   2023\n",
      "239          KOTA DEPOK                     NaN  TON PER HARI   2023\n",
      "240         KOTA CIMAHI                     NaN  TON PER HARI   2023\n",
      "241    KOTA TASIKMALAYA                     NaN  TON PER HARI   2023\n",
      "242         KOTA BANJAR                     NaN  TON PER HARI   2023\n",
      "\n",
      "[243 rows x 4 columns]\n"
     ]
    }
   ],
   "source": [
    "import pandas as pd\n",
    "\n",
    "\n",
    "#1. Buatlah sebuah DataFrame dari data jumlah produksi sampah kabupaten/kota di jawa barat. \n",
    "# (Pastikan terdapat kolom kota/kabupaten, jumlah produksi sampah(ton), dan tahun pencatatan)\n",
    "data = pd.read_excel('disperkim-od_16985_jumlah_produksi_sampah_berdasarkan_kabupatenkota_v3_data.xlsx') \n",
    "\n",
    "df = pd.DataFrame(data, columns=['nama_kabupaten_kota', 'jumlah_produksi_sampah', 'satuan', 'tahun'])\n",
    "\n",
    "print(df)"
   ]
  },
  {
   "cell_type": "code",
   "execution_count": 17,
   "metadata": {},
   "outputs": [
    {
     "name": "stdout",
     "output_type": "stream",
     "text": [
      "Total Produksi Sampah di Jawa Barat pada tahun 2020: 25333.0 ton\n",
      "Total Produksi Sampah di Jawa Barat pada tahun 2021: 15735.36 ton\n"
     ]
    }
   ],
   "source": [
    "import pandas as pd\n",
    "\n",
    "# 2. Hitung total produksi sampah di seluruh kabupaten/kota untuk tahun tertentu\n",
    "data = pd.read_excel('disperkim-od_16985_jumlah_produksi_sampah_berdasarkan_kabupatenkota_v3_data.xlsx') \n",
    "\n",
    "df = pd.DataFrame(data, columns=['nama_kabupaten_kota', 'jumlah_produksi_sampah', 'tahun'])\n",
    "\n",
    "total_produksi_2020 = sum(row['jumlah_produksi_sampah'] for index, row in df.iterrows() if row['tahun'] == 2020)\n",
    "total_produksi_2021 = sum(row['jumlah_produksi_sampah'] for index, row in df.iterrows() if row['tahun'] == 2021)\n",
    "\n",
    "total_produksi_2020_bulat = round(total_produksi_2020, 2)\n",
    "total_produksi_2021_bulat = round(total_produksi_2021, 2)\n",
    "\n",
    "print(f\"Total Produksi Sampah di Jawa Barat pada tahun 2020: {total_produksi_2020_bulat} ton\")\n",
    "print(f\"Total Produksi Sampah di Jawa Barat pada tahun 2021: {total_produksi_2021_bulat} ton\")"
   ]
  },
  {
   "cell_type": "code",
   "execution_count": 7,
   "metadata": {},
   "outputs": [
    {
     "name": "stdout",
     "output_type": "stream",
     "text": [
      "Total Produksi Sampah di Jawa Barat:\n",
      "- Tahun 2020: 25333.0 ton\n",
      "- Tahun 2021: 15735.36 ton\n"
     ]
    }
   ],
   "source": [
    "import pandas as pd\n",
    "\n",
    "# 3. Hitung jumlah data pertahun\n",
    "data = pd.read_excel('disperkim-od_16985_jumlah_produksi_sampah_berdasarkan_kabupatenkota_v3_data.xlsx') \n",
    "df = pd.DataFrame(data, columns=['nama_kabupaten_kota', 'jumlah_produksi_sampah', 'satuan', 'tahun'])\n",
    "\n",
    "total_2020 = 0\n",
    "total_2021 = 0\n",
    "\n",
    "for _, row in df.iterrows():\n",
    "    if row[\"tahun\"] == 2020:\n",
    "        total_2020 += row[\"jumlah_produksi_sampah\"]  \n",
    "    elif row[\"tahun\"] == 2021:\n",
    "        total_2021 += row[\"jumlah_produksi_sampah\"]  \n",
    "\n",
    "\n",
    "total_2020 = round(total_2020, 2)\n",
    "total_2021 = round(total_2021, 2)\n",
    "\n",
    "print(f\"Total Produksi Sampah di Jawa Barat:\")\n",
    "print(f\"- Tahun 2020: {total_2020} ton\")\n",
    "print(f\"- Tahun 2021: {total_2021} ton\")"
   ]
  },
  {
   "cell_type": "code",
   "execution_count": 15,
   "metadata": {},
   "outputs": [
    {
     "name": "stdout",
     "output_type": "stream",
     "text": [
      "   nama_kabupaten_kota  jumlah_produksi_sampah  tahun\n",
      "0            Kabupaten                11517.49   2015\n",
      "1                 Kota                 9451.78   2015\n",
      "2            Kabupaten                11517.49   2016\n",
      "3                 Kota                 9451.78   2016\n",
      "4            Kabupaten                11517.49   2017\n",
      "5                 Kota                 9451.78   2017\n",
      "6            Kabupaten                12319.04   2018\n",
      "7                 Kota                10453.88   2018\n",
      "8            Kabupaten                17685.98   2019\n",
      "9                 Kota                 6804.58   2019\n",
      "10           Kabupaten                18591.00   2020\n",
      "11                Kota                 6742.00   2020\n",
      "12           Kabupaten                 9555.63   2021\n",
      "13                Kota                 6179.73   2021\n",
      "14           Kabupaten                     NaN   2022\n",
      "15                Kota                     NaN   2022\n",
      "16           Kabupaten                     NaN   2023\n",
      "17                Kota                     NaN   2023\n"
     ]
    }
   ],
   "source": [
    "import pandas as pd\n",
    "\n",
    "# 4. Hitung jumlah data kota/kabupaten per tahun\n",
    "data = pd.read_excel('disperkim-od_16985_jumlah_produksi_sampah_berdasarkan_kabupatenkota_v3_data.xlsx') \n",
    "\n",
    "df = pd.DataFrame(data, columns=['nama_kabupaten_kota', 'jumlah_produksi_sampah', 'satuan', 'tahun'])\n",
    "df['nama_kabupaten_kota'] = df['nama_kabupaten_kota'].apply(lambda x: 'Kota' if 'KOTA' in x else 'Kabupaten')\n",
    "\n",
    "total_per_kategori_per_tahun = {}\n",
    "\n",
    "for _, row in df.iterrows():\n",
    "    key = (row[\"nama_kabupaten_kota\"], row[\"tahun\"])\n",
    "    total_per_kategori_per_tahun[key] = total_per_kategori_per_tahun.get(key, 0) + row[\"jumlah_produksi_sampah\"]\n",
    "\n",
    "df_hasil = pd.DataFrame(\n",
    "    [(k[0], v, k[1]) for k, v in total_per_kategori_per_tahun.items()],\n",
    "    columns=[\"nama_kabupaten_kota\", \"jumlah_produksi_sampah\", \"tahun\"]\n",
    ")\n",
    "\n",
    "print(df_hasil)"
   ]
  }
 ],
 "metadata": {
  "kernelspec": {
   "display_name": "Python 3",
   "language": "python",
   "name": "python3"
  },
  "language_info": {
   "codemirror_mode": {
    "name": "ipython",
    "version": 3
   },
   "file_extension": ".py",
   "mimetype": "text/x-python",
   "name": "python",
   "nbconvert_exporter": "python",
   "pygments_lexer": "ipython3",
   "version": "3.11.6"
  }
 },
 "nbformat": 4,
 "nbformat_minor": 2
}
